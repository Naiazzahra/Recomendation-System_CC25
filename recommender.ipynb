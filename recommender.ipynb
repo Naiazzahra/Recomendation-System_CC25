{
 "cells": [
  {
   "cell_type": "markdown",
   "id": "64a467ee",
   "metadata": {},
   "source": [
    "# Import Library\n",
    "\n",
    "Mengimport library yang akan membantu dalam penyelesaian proyek ini"
   ]
  },
  {
   "cell_type": "code",
   "execution_count": 1,
   "id": "1a1c326d",
   "metadata": {},
   "outputs": [],
   "source": [
    "import pandas as pd\n",
    "import numpy as np\n",
    "import matplotlib.pyplot as plt\n",
    "import seaborn as sns\n",
    "from sklearn.feature_extraction.text import TfidfVectorizer\n",
    "from sklearn.metrics.pairwise import cosine_similarity\n",
    "from sklearn.metrics import precision_score, recall_score, confusion_matrix\n",
    "from sklearn.preprocessing import MultiLabelBinarizer,MinMaxScaler, OneHotEncoder\n",
    "from scipy.sparse import csr_matrix\n",
    "from sklearn.neighbors import NearestNeighbors\n",
    "import warnings\n",
    "from tqdm import tqdm\n",
    "import re\n",
    "warnings.filterwarnings('ignore')"
   ]
  },
  {
   "cell_type": "code",
   "execution_count": 2,
   "id": "1dc41230",
   "metadata": {},
   "outputs": [
    {
     "name": "stdout",
     "output_type": "stream",
     "text": [
      "Dataset URL: https://www.kaggle.com/datasets/arashnic/book-recommendation-dataset\n"
     ]
    }
   ],
   "source": [
    "from kaggle.api.kaggle_api_extended import KaggleApi\n",
    "\n",
    "api = KaggleApi()\n",
    "api.authenticate()\n",
    "\n",
    "# Download dan unzip otomatis\n",
    "api.dataset_download_files('arashnic/book-recommendation-dataset', \n",
    "                           path='dataset', \n",
    "                           unzip=True)\n"
   ]
  },
  {
   "cell_type": "code",
   "execution_count": 3,
   "id": "a4857e6c",
   "metadata": {},
   "outputs": [],
   "source": [
    "books = pd.read_csv('dataset/Books.csv')\n",
    "ratings = pd.read_csv('dataset/Ratings.csv')\n",
    "users = pd.read_csv('dataset/Users.csv')"
   ]
  },
  {
   "cell_type": "code",
   "execution_count": 4,
   "id": "97a6f84b",
   "metadata": {},
   "outputs": [
    {
     "name": "stdout",
     "output_type": "stream",
     "text": [
      "Jumlah data books:  271360\n",
      "Jumlah data rating unik :  445839\n",
      "Jumlah data users :  278858\n"
     ]
    }
   ],
   "source": [
    "print('Jumlah data books: ', len(books.ISBN.unique()))\n",
    "print('Jumlah data rating unik : ', len(ratings['User-ID'].unique()) + len(ratings['ISBN'].unique()))\n",
    "print('Jumlah data users : ', len(users['User-ID'].unique()))"
   ]
  },
  {
   "cell_type": "code",
   "execution_count": 5,
   "id": "5be15e85",
   "metadata": {},
   "outputs": [
    {
     "data": {
      "text/html": [
       "<div>\n",
       "<style scoped>\n",
       "    .dataframe tbody tr th:only-of-type {\n",
       "        vertical-align: middle;\n",
       "    }\n",
       "\n",
       "    .dataframe tbody tr th {\n",
       "        vertical-align: top;\n",
       "    }\n",
       "\n",
       "    .dataframe thead th {\n",
       "        text-align: right;\n",
       "    }\n",
       "</style>\n",
       "<table border=\"1\" class=\"dataframe\">\n",
       "  <thead>\n",
       "    <tr style=\"text-align: right;\">\n",
       "      <th></th>\n",
       "      <th>ISBN</th>\n",
       "      <th>Book-Title</th>\n",
       "      <th>Book-Author</th>\n",
       "      <th>Year-Of-Publication</th>\n",
       "      <th>Publisher</th>\n",
       "      <th>Image-URL-S</th>\n",
       "      <th>Image-URL-M</th>\n",
       "      <th>Image-URL-L</th>\n",
       "    </tr>\n",
       "  </thead>\n",
       "  <tbody>\n",
       "    <tr>\n",
       "      <th>0</th>\n",
       "      <td>0195153448</td>\n",
       "      <td>Classical Mythology</td>\n",
       "      <td>Mark P. O. Morford</td>\n",
       "      <td>2002</td>\n",
       "      <td>Oxford University Press</td>\n",
       "      <td>http://images.amazon.com/images/P/0195153448.0...</td>\n",
       "      <td>http://images.amazon.com/images/P/0195153448.0...</td>\n",
       "      <td>http://images.amazon.com/images/P/0195153448.0...</td>\n",
       "    </tr>\n",
       "    <tr>\n",
       "      <th>1</th>\n",
       "      <td>0002005018</td>\n",
       "      <td>Clara Callan</td>\n",
       "      <td>Richard Bruce Wright</td>\n",
       "      <td>2001</td>\n",
       "      <td>HarperFlamingo Canada</td>\n",
       "      <td>http://images.amazon.com/images/P/0002005018.0...</td>\n",
       "      <td>http://images.amazon.com/images/P/0002005018.0...</td>\n",
       "      <td>http://images.amazon.com/images/P/0002005018.0...</td>\n",
       "    </tr>\n",
       "    <tr>\n",
       "      <th>2</th>\n",
       "      <td>0060973129</td>\n",
       "      <td>Decision in Normandy</td>\n",
       "      <td>Carlo D'Este</td>\n",
       "      <td>1991</td>\n",
       "      <td>HarperPerennial</td>\n",
       "      <td>http://images.amazon.com/images/P/0060973129.0...</td>\n",
       "      <td>http://images.amazon.com/images/P/0060973129.0...</td>\n",
       "      <td>http://images.amazon.com/images/P/0060973129.0...</td>\n",
       "    </tr>\n",
       "    <tr>\n",
       "      <th>3</th>\n",
       "      <td>0374157065</td>\n",
       "      <td>Flu: The Story of the Great Influenza Pandemic...</td>\n",
       "      <td>Gina Bari Kolata</td>\n",
       "      <td>1999</td>\n",
       "      <td>Farrar Straus Giroux</td>\n",
       "      <td>http://images.amazon.com/images/P/0374157065.0...</td>\n",
       "      <td>http://images.amazon.com/images/P/0374157065.0...</td>\n",
       "      <td>http://images.amazon.com/images/P/0374157065.0...</td>\n",
       "    </tr>\n",
       "    <tr>\n",
       "      <th>4</th>\n",
       "      <td>0393045218</td>\n",
       "      <td>The Mummies of Urumchi</td>\n",
       "      <td>E. J. W. Barber</td>\n",
       "      <td>1999</td>\n",
       "      <td>W. W. Norton &amp;amp; Company</td>\n",
       "      <td>http://images.amazon.com/images/P/0393045218.0...</td>\n",
       "      <td>http://images.amazon.com/images/P/0393045218.0...</td>\n",
       "      <td>http://images.amazon.com/images/P/0393045218.0...</td>\n",
       "    </tr>\n",
       "  </tbody>\n",
       "</table>\n",
       "</div>"
      ],
      "text/plain": [
       "         ISBN                                         Book-Title  \\\n",
       "0  0195153448                                Classical Mythology   \n",
       "1  0002005018                                       Clara Callan   \n",
       "2  0060973129                               Decision in Normandy   \n",
       "3  0374157065  Flu: The Story of the Great Influenza Pandemic...   \n",
       "4  0393045218                             The Mummies of Urumchi   \n",
       "\n",
       "            Book-Author Year-Of-Publication                   Publisher  \\\n",
       "0    Mark P. O. Morford                2002     Oxford University Press   \n",
       "1  Richard Bruce Wright                2001       HarperFlamingo Canada   \n",
       "2          Carlo D'Este                1991             HarperPerennial   \n",
       "3      Gina Bari Kolata                1999        Farrar Straus Giroux   \n",
       "4       E. J. W. Barber                1999  W. W. Norton &amp; Company   \n",
       "\n",
       "                                         Image-URL-S  \\\n",
       "0  http://images.amazon.com/images/P/0195153448.0...   \n",
       "1  http://images.amazon.com/images/P/0002005018.0...   \n",
       "2  http://images.amazon.com/images/P/0060973129.0...   \n",
       "3  http://images.amazon.com/images/P/0374157065.0...   \n",
       "4  http://images.amazon.com/images/P/0393045218.0...   \n",
       "\n",
       "                                         Image-URL-M  \\\n",
       "0  http://images.amazon.com/images/P/0195153448.0...   \n",
       "1  http://images.amazon.com/images/P/0002005018.0...   \n",
       "2  http://images.amazon.com/images/P/0060973129.0...   \n",
       "3  http://images.amazon.com/images/P/0374157065.0...   \n",
       "4  http://images.amazon.com/images/P/0393045218.0...   \n",
       "\n",
       "                                         Image-URL-L  \n",
       "0  http://images.amazon.com/images/P/0195153448.0...  \n",
       "1  http://images.amazon.com/images/P/0002005018.0...  \n",
       "2  http://images.amazon.com/images/P/0060973129.0...  \n",
       "3  http://images.amazon.com/images/P/0374157065.0...  \n",
       "4  http://images.amazon.com/images/P/0393045218.0...  "
      ]
     },
     "execution_count": 5,
     "metadata": {},
     "output_type": "execute_result"
    }
   ],
   "source": [
    "books.head()"
   ]
  },
  {
   "cell_type": "code",
   "execution_count": 6,
   "id": "c2074ea4",
   "metadata": {},
   "outputs": [
    {
     "name": "stdout",
     "output_type": "stream",
     "text": [
      "<class 'pandas.core.frame.DataFrame'>\n",
      "RangeIndex: 271360 entries, 0 to 271359\n",
      "Data columns (total 8 columns):\n",
      " #   Column               Non-Null Count   Dtype \n",
      "---  ------               --------------   ----- \n",
      " 0   ISBN                 271360 non-null  object\n",
      " 1   Book-Title           271360 non-null  object\n",
      " 2   Book-Author          271358 non-null  object\n",
      " 3   Year-Of-Publication  271360 non-null  object\n",
      " 4   Publisher            271358 non-null  object\n",
      " 5   Image-URL-S          271360 non-null  object\n",
      " 6   Image-URL-M          271360 non-null  object\n",
      " 7   Image-URL-L          271357 non-null  object\n",
      "dtypes: object(8)\n",
      "memory usage: 16.6+ MB\n"
     ]
    }
   ],
   "source": [
    "books.info()"
   ]
  },
  {
   "cell_type": "code",
   "execution_count": 7,
   "id": "c74b6ae9",
   "metadata": {},
   "outputs": [
    {
     "data": {
      "text/html": [
       "<div>\n",
       "<style scoped>\n",
       "    .dataframe tbody tr th:only-of-type {\n",
       "        vertical-align: middle;\n",
       "    }\n",
       "\n",
       "    .dataframe tbody tr th {\n",
       "        vertical-align: top;\n",
       "    }\n",
       "\n",
       "    .dataframe thead th {\n",
       "        text-align: right;\n",
       "    }\n",
       "</style>\n",
       "<table border=\"1\" class=\"dataframe\">\n",
       "  <thead>\n",
       "    <tr style=\"text-align: right;\">\n",
       "      <th></th>\n",
       "      <th>User-ID</th>\n",
       "      <th>ISBN</th>\n",
       "      <th>Book-Rating</th>\n",
       "    </tr>\n",
       "  </thead>\n",
       "  <tbody>\n",
       "    <tr>\n",
       "      <th>0</th>\n",
       "      <td>276725</td>\n",
       "      <td>034545104X</td>\n",
       "      <td>0</td>\n",
       "    </tr>\n",
       "    <tr>\n",
       "      <th>1</th>\n",
       "      <td>276726</td>\n",
       "      <td>0155061224</td>\n",
       "      <td>5</td>\n",
       "    </tr>\n",
       "    <tr>\n",
       "      <th>2</th>\n",
       "      <td>276727</td>\n",
       "      <td>0446520802</td>\n",
       "      <td>0</td>\n",
       "    </tr>\n",
       "    <tr>\n",
       "      <th>3</th>\n",
       "      <td>276729</td>\n",
       "      <td>052165615X</td>\n",
       "      <td>3</td>\n",
       "    </tr>\n",
       "    <tr>\n",
       "      <th>4</th>\n",
       "      <td>276729</td>\n",
       "      <td>0521795028</td>\n",
       "      <td>6</td>\n",
       "    </tr>\n",
       "  </tbody>\n",
       "</table>\n",
       "</div>"
      ],
      "text/plain": [
       "   User-ID        ISBN  Book-Rating\n",
       "0   276725  034545104X            0\n",
       "1   276726  0155061224            5\n",
       "2   276727  0446520802            0\n",
       "3   276729  052165615X            3\n",
       "4   276729  0521795028            6"
      ]
     },
     "execution_count": 7,
     "metadata": {},
     "output_type": "execute_result"
    }
   ],
   "source": [
    "ratings.head()"
   ]
  },
  {
   "cell_type": "code",
   "execution_count": 8,
   "id": "92d627f5",
   "metadata": {},
   "outputs": [
    {
     "name": "stdout",
     "output_type": "stream",
     "text": [
      "<class 'pandas.core.frame.DataFrame'>\n",
      "RangeIndex: 1149780 entries, 0 to 1149779\n",
      "Data columns (total 3 columns):\n",
      " #   Column       Non-Null Count    Dtype \n",
      "---  ------       --------------    ----- \n",
      " 0   User-ID      1149780 non-null  int64 \n",
      " 1   ISBN         1149780 non-null  object\n",
      " 2   Book-Rating  1149780 non-null  int64 \n",
      "dtypes: int64(2), object(1)\n",
      "memory usage: 26.3+ MB\n"
     ]
    }
   ],
   "source": [
    "ratings.info()"
   ]
  },
  {
   "cell_type": "code",
   "execution_count": 9,
   "id": "56d57de5",
   "metadata": {},
   "outputs": [
    {
     "data": {
      "text/html": [
       "<div>\n",
       "<style scoped>\n",
       "    .dataframe tbody tr th:only-of-type {\n",
       "        vertical-align: middle;\n",
       "    }\n",
       "\n",
       "    .dataframe tbody tr th {\n",
       "        vertical-align: top;\n",
       "    }\n",
       "\n",
       "    .dataframe thead th {\n",
       "        text-align: right;\n",
       "    }\n",
       "</style>\n",
       "<table border=\"1\" class=\"dataframe\">\n",
       "  <thead>\n",
       "    <tr style=\"text-align: right;\">\n",
       "      <th></th>\n",
       "      <th>User-ID</th>\n",
       "      <th>Location</th>\n",
       "      <th>Age</th>\n",
       "    </tr>\n",
       "  </thead>\n",
       "  <tbody>\n",
       "    <tr>\n",
       "      <th>0</th>\n",
       "      <td>1</td>\n",
       "      <td>nyc, new york, usa</td>\n",
       "      <td>NaN</td>\n",
       "    </tr>\n",
       "    <tr>\n",
       "      <th>1</th>\n",
       "      <td>2</td>\n",
       "      <td>stockton, california, usa</td>\n",
       "      <td>18.0</td>\n",
       "    </tr>\n",
       "    <tr>\n",
       "      <th>2</th>\n",
       "      <td>3</td>\n",
       "      <td>moscow, yukon territory, russia</td>\n",
       "      <td>NaN</td>\n",
       "    </tr>\n",
       "    <tr>\n",
       "      <th>3</th>\n",
       "      <td>4</td>\n",
       "      <td>porto, v.n.gaia, portugal</td>\n",
       "      <td>17.0</td>\n",
       "    </tr>\n",
       "    <tr>\n",
       "      <th>4</th>\n",
       "      <td>5</td>\n",
       "      <td>farnborough, hants, united kingdom</td>\n",
       "      <td>NaN</td>\n",
       "    </tr>\n",
       "  </tbody>\n",
       "</table>\n",
       "</div>"
      ],
      "text/plain": [
       "   User-ID                            Location   Age\n",
       "0        1                  nyc, new york, usa   NaN\n",
       "1        2           stockton, california, usa  18.0\n",
       "2        3     moscow, yukon territory, russia   NaN\n",
       "3        4           porto, v.n.gaia, portugal  17.0\n",
       "4        5  farnborough, hants, united kingdom   NaN"
      ]
     },
     "execution_count": 9,
     "metadata": {},
     "output_type": "execute_result"
    }
   ],
   "source": [
    "users.head()"
   ]
  },
  {
   "cell_type": "code",
   "execution_count": 10,
   "id": "1f0bdb02",
   "metadata": {},
   "outputs": [
    {
     "name": "stdout",
     "output_type": "stream",
     "text": [
      "<class 'pandas.core.frame.DataFrame'>\n",
      "RangeIndex: 278858 entries, 0 to 278857\n",
      "Data columns (total 3 columns):\n",
      " #   Column    Non-Null Count   Dtype  \n",
      "---  ------    --------------   -----  \n",
      " 0   User-ID   278858 non-null  int64  \n",
      " 1   Location  278858 non-null  object \n",
      " 2   Age       168096 non-null  float64\n",
      "dtypes: float64(1), int64(1), object(1)\n",
      "memory usage: 6.4+ MB\n"
     ]
    }
   ],
   "source": [
    "users.info()"
   ]
  },
  {
   "cell_type": "code",
   "execution_count": 11,
   "id": "6e7b31ea",
   "metadata": {},
   "outputs": [
    {
     "name": "stdout",
     "output_type": "stream",
     "text": [
      "Info Dataframe setelah cleaning\n",
      "<class 'pandas.core.frame.DataFrame'>\n",
      "RangeIndex: 271360 entries, 0 to 271359\n",
      "Data columns (total 8 columns):\n",
      " #   Column               Non-Null Count   Dtype \n",
      "---  ------               --------------   ----- \n",
      " 0   ISBN                 271360 non-null  object\n",
      " 1   Book-Title           271360 non-null  object\n",
      " 2   Book-Author          271360 non-null  object\n",
      " 3   Year-Of-Publication  271360 non-null  int64 \n",
      " 4   Publisher            271360 non-null  object\n",
      " 5   Image-URL-S          271360 non-null  object\n",
      " 6   Image-URL-M          271360 non-null  object\n",
      " 7   Image-URL-L          271360 non-null  object\n",
      "dtypes: int64(1), object(7)\n",
      "memory usage: 16.6+ MB\n"
     ]
    }
   ],
   "source": [
    "books['Year-Of-Publication'] = pd.to_numeric(books['Year-Of-Publication'], errors='coerce')\n",
    "valid_years = books['Year-Of-Publication'][\n",
    "    (books['Year-Of-Publication'] > 1900) & (books['Year-Of-Publication'] <= 2025)\n",
    "]\n",
    "books['Year-Of-Publication'].fillna(valid_years.median(), inplace=True)\n",
    "books['Year-Of-Publication'] = books['Year-Of-Publication'].astype(int)\n",
    "books['Book-Author'].fillna('Unknown Author', inplace=True)\n",
    "books['Publisher'].fillna('Unknown Publisher', inplace=True)\n",
    "books['Image-URL-L'].fillna('Unknown URL', inplace=True)\n",
    "print(\"Info Dataframe setelah cleaning\")\n",
    "books.info()"
   ]
  },
  {
   "cell_type": "markdown",
   "id": "eff839c1",
   "metadata": {},
   "source": [
    "membersihkan dan memperbaiki data pada dataset buku agar lebih konsisten dan siap digunakan untuk analisis lanjutan. Proses pembersihan dilakukan dengan mengubah kolom tahun terbit menjadi numerik, menyaring nilai tahun yang valid (antara 1900 hingga 2025), serta mengganti nilai yang hilang dengan nilai median dari tahun-tahun yang masuk akal. Selain itu, nilai kosong pada kolom penting seperti nama penulis, penerbit, dan URL gambar juga diisi dengan nilai default seperti \"Unknown Author\", \"Unknown Publisher\", dan \"Unknown URL\""
   ]
  },
  {
   "cell_type": "code",
   "execution_count": 12,
   "id": "ea94c01f",
   "metadata": {},
   "outputs": [
    {
     "name": "stdout",
     "output_type": "stream",
     "text": [
      "Info DataFrame 'ratings_explicit' (setelah filter rating 0 & hapus duplikat):\n",
      "<class 'pandas.core.frame.DataFrame'>\n",
      "Index: 433671 entries, 1 to 1149779\n",
      "Data columns (total 3 columns):\n",
      " #   Column       Non-Null Count   Dtype \n",
      "---  ------       --------------   ----- \n",
      " 0   User-ID      433671 non-null  int64 \n",
      " 1   ISBN         433671 non-null  object\n",
      " 2   Book-Rating  433671 non-null  int64 \n",
      "dtypes: int64(2), object(1)\n",
      "memory usage: 13.2+ MB\n"
     ]
    }
   ],
   "source": [
    "ratings_explicit = ratings[ratings['Book-Rating'] != 0].copy() # Filter rating eksplisit (1-10)\n",
    "ratings_explicit.drop_duplicates(subset=['User-ID', 'ISBN'], inplace=True)\n",
    "print(\"Info DataFrame 'ratings_explicit' (setelah filter rating 0 & hapus duplikat):\")\n",
    "ratings_explicit.info()"
   ]
  },
  {
   "cell_type": "markdown",
   "id": "d2fc22ca",
   "metadata": {},
   "source": [
    "membersihkan data rating dengan menyaring hanya rating eksplisit (1–10) dan menghapus duplikat berdasarkan kombinasi 'User-ID' dan 'ISBN'. Hasilnya, diperoleh 433.671 data"
   ]
  },
  {
   "cell_type": "code",
   "execution_count": 13,
   "id": "ee779ce3",
   "metadata": {},
   "outputs": [
    {
     "name": "stdout",
     "output_type": "stream",
     "text": [
      "Info DataFrame 'users' setelah pembersihan 'Age':\n",
      "<class 'pandas.core.frame.DataFrame'>\n",
      "RangeIndex: 278858 entries, 0 to 278857\n",
      "Data columns (total 3 columns):\n",
      " #   Column    Non-Null Count   Dtype  \n",
      "---  ------    --------------   -----  \n",
      " 0   User-ID   278858 non-null  int64  \n",
      " 1   Location  278858 non-null  object \n",
      " 2   Age       168096 non-null  float64\n",
      "dtypes: float64(1), int64(1), object(1)\n",
      "memory usage: 6.4+ MB\n"
     ]
    }
   ],
   "source": [
    "users['Age'] = pd.to_numeric(users['Age'], errors='coerce')\n",
    "print(\"Info DataFrame 'users' setelah pembersihan 'Age':\")\n",
    "users.info()"
   ]
  },
  {
   "cell_type": "markdown",
   "id": "7aadcad9",
   "metadata": {},
   "source": [
    "Kolom Age dikonversi ke tipe numerik untuk mengatasi nilai tidak valid dengan mengubahnya menjadi NaN (hilang). "
   ]
  },
  {
   "cell_type": "code",
   "execution_count": 14,
   "id": "f29cc77c",
   "metadata": {},
   "outputs": [
    {
     "name": "stdout",
     "output_type": "stream",
     "text": [
      "\n",
      "Jumlah data gabungan 'ratings_explicit' dan 'books': 383842\n"
     ]
    }
   ],
   "source": [
    "# Penggabungan awal untuk melihat data yang relevan\n",
    "merged_ratings_books = ratings_explicit.merge(books, on='ISBN', how='inner')\n",
    "print(f\"\\nJumlah data gabungan 'ratings_explicit' dan 'books': {len(merged_ratings_books)}\")\n"
   ]
  },
  {
   "cell_type": "code",
   "execution_count": 15,
   "id": "4e67c331",
   "metadata": {},
   "outputs": [
    {
     "name": "stdout",
     "output_type": "stream",
     "text": [
      "\n",
      "Jumlah data rating setelah filter sparsity: 145890\n",
      "\n",
      "Info DataFrame 'ratings_filtered':\n",
      "<class 'pandas.core.frame.DataFrame'>\n",
      "Index: 145890 entries, 4 to 383837\n",
      "Data columns (total 10 columns):\n",
      " #   Column               Non-Null Count   Dtype \n",
      "---  ------               --------------   ----- \n",
      " 0   User-ID              145890 non-null  int64 \n",
      " 1   ISBN                 145890 non-null  object\n",
      " 2   Book-Rating          145890 non-null  int64 \n",
      " 3   Book-Title           145890 non-null  object\n",
      " 4   Book-Author          145890 non-null  object\n",
      " 5   Year-Of-Publication  145890 non-null  int64 \n",
      " 6   Publisher            145890 non-null  object\n",
      " 7   Image-URL-S          145890 non-null  object\n",
      " 8   Image-URL-M          145890 non-null  object\n",
      " 9   Image-URL-L          145890 non-null  object\n",
      "dtypes: int64(3), object(7)\n",
      "memory usage: 12.2+ MB\n"
     ]
    }
   ],
   "source": [
    "# Filter Sparsity pada Data Rating\n",
    "min_ratings_per_user = 5\n",
    "min_ratings_per_book = 5\n",
    "user_counts = merged_ratings_books['User-ID'].value_counts()\n",
    "book_counts = merged_ratings_books['ISBN'].value_counts()\n",
    "filtered_users = user_counts[user_counts >= min_ratings_per_user].index\n",
    "filtered_books = book_counts[book_counts >= min_ratings_per_book].index\n",
    "\n",
    "ratings_filtered = merged_ratings_books[\n",
    "    (merged_ratings_books['User-ID'].isin(filtered_users)) &\n",
    "    (merged_ratings_books['ISBN'].isin(filtered_books))\n",
    "].copy()\n",
    "print(f\"\\nJumlah data rating setelah filter sparsity: {len(ratings_filtered)}\")\n",
    "print(\"\\nInfo DataFrame 'ratings_filtered':\")\n",
    "ratings_filtered.info()"
   ]
  },
  {
   "cell_type": "markdown",
   "id": "5c96289e",
   "metadata": {},
   "source": [
    "menyaring data rating dengan hanya mempertahankan pengguna dan buku yang masing-masing memiliki minimal 5 rating. Penyaringan ini bertujuan untuk mengurangi sparsity (kekosongan data) yang umum terjadi pada data sistem rekomendasi. Hasilnya, diperoleh 145.890 data"
   ]
  },
  {
   "cell_type": "code",
   "execution_count": 16,
   "id": "2b161a41",
   "metadata": {},
   "outputs": [
    {
     "data": {
      "image/png": "[encoded data removed]",
      "text/plain": [
       "<Figure size 1000x600 with 1 Axes>"
      ]
     },
     "metadata": {},
     "output_type": "display_data"
    }
   ],
   "source": [
    "plt.figure(figsize=(10, 6))\n",
    "sns.countplot(x='Book-Rating', data=ratings_explicit, palette='viridis')\n",
    "plt.title(\"Distribusi Rating Buku Eksplisit (1-10)\", fontsize=16)\n",
    "plt.xlabel(\"Rating\", fontsize=12)\n",
    "plt.ylabel(\"Jumlah Rating\", fontsize=12)\n",
    "plt.xticks(fontsize=10)\n",
    "plt.yticks(fontsize=10)\n",
    "plt.grid(axis='y', alpha=0.75, linestyle='--')\n",
    "plt.show()"
   ]
  },
  {
   "cell_type": "markdown",
   "id": "63daf5a8",
   "metadata": {},
   "source": [
    "Distribusi rating menunjukkan bahwa buku eksplisit umumnya diterima dengan sangat baik oleh pembaca. Rating yang dominan tinggi menunjukkan kepuasan yang tinggi, serta mungkin adanya komunitas pembaca yang loyal. Namun, penting juga mencermati kemungkinan bias dalam pemberian rating, seperti hanya pembaca yang menyukai genre tersebut yang meninggalkan ulasan."
   ]
  },
  {
   "cell_type": "code",
   "execution_count": 17,
   "id": "688b8265",
   "metadata": {},
   "outputs": [
    {
     "data": {
      "image/png": "[encoded data removed]",
      "text/plain": [
       "<Figure size 1200x700 with 1 Axes>"
      ]
     },
     "metadata": {},
     "output_type": "display_data"
    }
   ],
   "source": [
    "plt.figure(figsize=(12, 7))\n",
    "top_authors = books['Book-Author'].value_counts().head(10)\n",
    "sns.barplot(x=top_authors.values, y=top_authors.index, palette='crest')\n",
    "plt.title(\"Top 10 Penulis Paling Produktif\", fontsize=16)\n",
    "plt.xlabel(\"Jumlah Buku\", fontsize=12)\n",
    "plt.ylabel(\"Penulis\", fontsize=12)\n",
    "plt.xticks(fontsize=10)\n",
    "plt.yticks(fontsize=10)\n",
    "plt.show()"
   ]
  },
  {
   "cell_type": "markdown",
   "id": "4690623f",
   "metadata": {},
   "source": [
    "Agatha Christie memimpin sebagai penulis paling produktif, dengan Shakespeare dan King menyusul. Grafik ini menunjukkan bahwa produktivitas luar biasa bisa dicapai oleh penulis dari berbagai era dan genre, dan penulis serial cenderung memiliki volume karya lebih banyak. Informasi ini sangat bermanfaat untuk analisis pasar buku, tren genre, atau inspirasi bagi penulis baru."
   ]
  },
  {
   "cell_type": "code",
   "execution_count": 18,
   "id": "1d2a833a",
   "metadata": {},
   "outputs": [
    {
     "data": {
      "image/png": "[encoded data removed]",
      "text/plain": [
       "<Figure size 1200x700 with 1 Axes>"
      ]
     },
     "metadata": {},
     "output_type": "display_data"
    }
   ],
   "source": [
    "plt.figure(figsize=(12, 7))\n",
    "top_publishers = books['Publisher'].value_counts().head(10)\n",
    "sns.barplot(x=top_publishers.values, y=top_publishers.index, palette='magma')\n",
    "plt.title(\"Top 10 Penerbit Paling Produktif\", fontsize=16)\n",
    "plt.xlabel(\"Jumlah Buku\", fontsize=12)\n",
    "plt.ylabel(\"Penerbit\", fontsize=12)\n",
    "plt.xticks(fontsize=10)\n",
    "plt.yticks(fontsize=10)\n",
    "plt.show()"
   ]
  },
  {
   "cell_type": "markdown",
   "id": "793a08be",
   "metadata": {},
   "source": [
    "Visualisasi ini menunjukkan bahwa Harlequin adalah penerbit paling produktif, secara signifikan mengungguli yang lain. Sementara itu, sembilan penerbit lainnya memiliki volume yang relatif serupa, menandakan kompetisi yang lebih merata di luar dominasi Harlequin."
   ]
  },
  {
   "cell_type": "code",
   "execution_count": 19,
   "id": "98c10520",
   "metadata": {},
   "outputs": [],
   "source": [
    "sampled_books = books.dropna(subset=['Book-Title']).sample(n=40000, random_state=42).reset_index(drop=True)\n"
   ]
  },
  {
   "cell_type": "markdown",
   "id": "3a96caa2",
   "metadata": {},
   "source": [
    "Mengambil 40000 sample dari dataset books, karena terlalu banyak 271000 yang menyebabkan selalu crash saat menjalankan program (RAM tidak memenuhi untuk load dataset 271000)"
   ]
  },
  {
   "cell_type": "code",
   "execution_count": 20,
   "id": "c88c1d97",
   "metadata": {},
   "outputs": [
    {
     "data": {
      "text/html": [
       "<div>\n",
       "<style scoped>\n",
       "    .dataframe tbody tr th:only-of-type {\n",
       "        vertical-align: middle;\n",
       "    }\n",
       "\n",
       "    .dataframe tbody tr th {\n",
       "        vertical-align: top;\n",
       "    }\n",
       "\n",
       "    .dataframe thead th {\n",
       "        text-align: right;\n",
       "    }\n",
       "</style>\n",
       "<table border=\"1\" class=\"dataframe\">\n",
       "  <thead>\n",
       "    <tr style=\"text-align: right;\">\n",
       "      <th></th>\n",
       "      <th>ISBN</th>\n",
       "      <th>Book-Title</th>\n",
       "      <th>Book-Author</th>\n",
       "      <th>Year-Of-Publication</th>\n",
       "      <th>Publisher</th>\n",
       "      <th>Image-URL-S</th>\n",
       "      <th>Image-URL-M</th>\n",
       "      <th>Image-URL-L</th>\n",
       "    </tr>\n",
       "  </thead>\n",
       "  <tbody>\n",
       "    <tr>\n",
       "      <th>0</th>\n",
       "      <td>0679764275</td>\n",
       "      <td>The F Word</td>\n",
       "      <td>Jesse Sheidlower</td>\n",
       "      <td>1995</td>\n",
       "      <td>Random House Reference Publishing</td>\n",
       "      <td>http://images.amazon.com/images/P/0679764275.0...</td>\n",
       "      <td>http://images.amazon.com/images/P/0679764275.0...</td>\n",
       "      <td>http://images.amazon.com/images/P/0679764275.0...</td>\n",
       "    </tr>\n",
       "    <tr>\n",
       "      <th>1</th>\n",
       "      <td>3257228589</td>\n",
       "      <td>Davids Rache.</td>\n",
       "      <td>Hans Werner Kettenbach</td>\n",
       "      <td>1996</td>\n",
       "      <td>Diogenes Verlag</td>\n",
       "      <td>http://images.amazon.com/images/P/3257228589.0...</td>\n",
       "      <td>http://images.amazon.com/images/P/3257228589.0...</td>\n",
       "      <td>http://images.amazon.com/images/P/3257228589.0...</td>\n",
       "    </tr>\n",
       "    <tr>\n",
       "      <th>2</th>\n",
       "      <td>0812577647</td>\n",
       "      <td>Sky Knife</td>\n",
       "      <td>Marella Sands</td>\n",
       "      <td>2000</td>\n",
       "      <td>Tor Books</td>\n",
       "      <td>http://images.amazon.com/images/P/0812577647.0...</td>\n",
       "      <td>http://images.amazon.com/images/P/0812577647.0...</td>\n",
       "      <td>http://images.amazon.com/images/P/0812577647.0...</td>\n",
       "    </tr>\n",
       "    <tr>\n",
       "      <th>3</th>\n",
       "      <td>0156372118</td>\n",
       "      <td>The Groves of Academe</td>\n",
       "      <td>Mary McCarthy</td>\n",
       "      <td>1992</td>\n",
       "      <td>Harcourt</td>\n",
       "      <td>http://images.amazon.com/images/P/0156372118.0...</td>\n",
       "      <td>http://images.amazon.com/images/P/0156372118.0...</td>\n",
       "      <td>http://images.amazon.com/images/P/0156372118.0...</td>\n",
       "    </tr>\n",
       "    <tr>\n",
       "      <th>4</th>\n",
       "      <td>0590470485</td>\n",
       "      <td>Karen's Lucky Penny (Baby-Sitters Little Siste...</td>\n",
       "      <td>Ann M. Martin</td>\n",
       "      <td>1994</td>\n",
       "      <td>Scholastic</td>\n",
       "      <td>http://images.amazon.com/images/P/0590470485.0...</td>\n",
       "      <td>http://images.amazon.com/images/P/0590470485.0...</td>\n",
       "      <td>http://images.amazon.com/images/P/0590470485.0...</td>\n",
       "    </tr>\n",
       "  </tbody>\n",
       "</table>\n",
       "</div>"
      ],
      "text/plain": [
       "         ISBN                                         Book-Title  \\\n",
       "0  0679764275                                         The F Word   \n",
       "1  3257228589                                      Davids Rache.   \n",
       "2  0812577647                                          Sky Knife   \n",
       "3  0156372118                              The Groves of Academe   \n",
       "4  0590470485  Karen's Lucky Penny (Baby-Sitters Little Siste...   \n",
       "\n",
       "              Book-Author  Year-Of-Publication  \\\n",
       "0        Jesse Sheidlower                 1995   \n",
       "1  Hans Werner Kettenbach                 1996   \n",
       "2           Marella Sands                 2000   \n",
       "3           Mary McCarthy                 1992   \n",
       "4           Ann M. Martin                 1994   \n",
       "\n",
       "                           Publisher  \\\n",
       "0  Random House Reference Publishing   \n",
       "1                    Diogenes Verlag   \n",
       "2                          Tor Books   \n",
       "3                           Harcourt   \n",
       "4                         Scholastic   \n",
       "\n",
       "                                         Image-URL-S  \\\n",
       "0  http://images.amazon.com/images/P/0679764275.0...   \n",
       "1  http://images.amazon.com/images/P/3257228589.0...   \n",
       "2  http://images.amazon.com/images/P/0812577647.0...   \n",
       "3  http://images.amazon.com/images/P/0156372118.0...   \n",
       "4  http://images.amazon.com/images/P/0590470485.0...   \n",
       "\n",
       "                                         Image-URL-M  \\\n",
       "0  http://images.amazon.com/images/P/0679764275.0...   \n",
       "1  http://images.amazon.com/images/P/3257228589.0...   \n",
       "2  http://images.amazon.com/images/P/0812577647.0...   \n",
       "3  http://images.amazon.com/images/P/0156372118.0...   \n",
       "4  http://images.amazon.com/images/P/0590470485.0...   \n",
       "\n",
       "                                         Image-URL-L  \n",
       "0  http://images.amazon.com/images/P/0679764275.0...  \n",
       "1  http://images.amazon.com/images/P/3257228589.0...  \n",
       "2  http://images.amazon.com/images/P/0812577647.0...  \n",
       "3  http://images.amazon.com/images/P/0156372118.0...  \n",
       "4  http://images.amazon.com/images/P/0590470485.0...  "
      ]
     },
     "execution_count": 20,
     "metadata": {},
     "output_type": "execute_result"
    }
   ],
   "source": [
    "sampled_books.head()"
   ]
  },
  {
   "cell_type": "code",
   "execution_count": 21,
   "id": "9d28a3a1",
   "metadata": {},
   "outputs": [
    {
     "name": "stdout",
     "output_type": "stream",
     "text": [
      "Ukuran TF-IDF Matrix: (40000, 29535)\n"
     ]
    }
   ],
   "source": [
    "tfidf = TfidfVectorizer(stop_words='english')\n",
    "tfidf_matrix = tfidf.fit_transform(sampled_books['Book-Title'])\n",
    "\n",
    "print(\"Ukuran TF-IDF Matrix:\", tfidf_matrix.shape) "
   ]
  },
  {
   "cell_type": "code",
   "execution_count": 22,
   "id": "06f0f24e",
   "metadata": {},
   "outputs": [],
   "source": [
    "cosine_sim = cosine_similarity(tfidf_matrix)"
   ]
  },
  {
   "cell_type": "markdown",
   "id": "3ef9e1cb",
   "metadata": {},
   "source": [
    "metode TF-IDF untuk mengekstrak fitur teks dari judul buku dan cosine similarity untuk mengukur kesamaan antarjudul. Setelah membentuk matriks TF-IDF berukuran 40.000 × 29.535"
   ]
  },
  {
   "cell_type": "code",
   "execution_count": 23,
   "id": "c94eb00b",
   "metadata": {},
   "outputs": [],
   "source": [
    "title_to_index = pd.Series(sampled_books.index, index=sampled_books['Book-Title']).drop_duplicates()"
   ]
  },
  {
   "cell_type": "code",
   "execution_count": 24,
   "id": "a0ee567a",
   "metadata": {},
   "outputs": [],
   "source": [
    "def get_similar_books(title, top_n=5):\n",
    "    try:\n",
    "        if title not in title_to_index:\n",
    "            return []\n",
    "        \n",
    "        idx = title_to_index[title]\n",
    "\n",
    "        # Pastikan idx adalah integer\n",
    "        if isinstance(idx, pd.Series):  # bisa terjadi jika ada duplikat index\n",
    "            idx = idx.iloc[0]\n",
    "\n",
    "        # Ambil vektor similarity dan pastikan hasilnya 1D\n",
    "        sim_scores = cosine_sim[idx]  # 1D array (misal: shape (40000,))\n",
    "        \n",
    "        # Enumerate dan urutkan berdasarkan skor tertinggi (kecuali dirinya sendiri)\n",
    "        sim_scores = list(enumerate(sim_scores))\n",
    "        sim_scores = sorted(sim_scores, key=lambda x: x[1], reverse=True)\n",
    "        sim_scores = sim_scores[1:top_n+1]  # skip dirinya sendiri (posisi 0)\n",
    "\n",
    "        book_indices = [i[0] for i in sim_scores]\n",
    "        return [sampled_books.iloc[i]['Book-Title'] for i in book_indices]\n",
    "\n",
    "    except Exception as e:\n",
    "        print(f\"⚠️ Error saat merekomendasikan untuk judul: {title}\")\n",
    "        print(e)\n",
    "        return []\n"
   ]
  },
  {
   "cell_type": "markdown",
   "id": "83dddbff",
   "metadata": {},
   "source": [
    "fungsi get_similar_books() untuk merekomendasikan top-n buku yang paling mirip dengan judul yang diberikan"
   ]
  },
  {
   "cell_type": "code",
   "execution_count": 25,
   "id": "e78ba6f8",
   "metadata": {},
   "outputs": [
    {
     "name": "stderr",
     "output_type": "stream",
     "text": [
      "100%|██████████| 100/100 [05:09<00:00,  3.09s/it]"
     ]
    },
    {
     "name": "stdout",
     "output_type": "stream",
     "text": [
      "\n",
      "📊 Hasil Evaluasi:\n",
      "📌 Precision@5 (rata-rata): 0.0598\n",
      "📌 Recall@5 (rata-rata):    0.2461\n"
     ]
    },
    {
     "name": "stderr",
     "output_type": "stream",
     "text": [
      "\n"
     ]
    }
   ],
   "source": [
    "# 7. Evaluasi dengan Precision@5 dan Recall@5\n",
    "ratings_books_filtered = merged_ratings_books[merged_ratings_books['Book-Title'].isin(sampled_books['Book-Title'])].copy()\n",
    "user_likes = ratings_books_filtered[ratings_books_filtered['Book-Rating'] >= 8]  # dianggap relevan\n",
    "\n",
    "# Top 100 pengguna paling aktif\n",
    "top_users = user_likes['User-ID'].value_counts().head(100).index\n",
    "\n",
    "precision_list = []\n",
    "recall_list = []\n",
    "\n",
    "for user in tqdm(top_users):\n",
    "    liked_books = user_likes[user_likes['User-ID'] == user]['Book-Title'].unique()\n",
    "    recommended = set()\n",
    "\n",
    "    for book in liked_books:\n",
    "        recommended.update(get_similar_books(book, top_n=5))\n",
    "\n",
    "    recommended = list(recommended)\n",
    "    relevant = set(liked_books)\n",
    "\n",
    "    # Hitung true positives\n",
    "    true_positives = len(set(recommended) & relevant)\n",
    "    precision = true_positives / len(recommended) if recommended else 0\n",
    "    recall = true_positives / len(relevant) if relevant else 0\n",
    "\n",
    "    precision_list.append(precision)\n",
    "    recall_list.append(recall)\n",
    "\n",
    "# Rata-rata\n",
    "avg_precision = np.mean(precision_list)\n",
    "avg_recall = np.mean(recall_list)\n",
    "\n",
    "print(f\"\\n📊 Hasil Evaluasi:\")\n",
    "print(f\"📌 Precision@5 (rata-rata): {avg_precision:.4f}\")\n",
    "print(f\"📌 Recall@5 (rata-rata):    {avg_recall:.4f}\")\n"
   ]
  },
  {
   "cell_type": "markdown",
   "id": "b407ea90",
   "metadata": {},
   "source": [
    "mengevaluasi akurasi sistem rekomendasi dengan menghitung rata-rata Precision@5 dan Recall@5 berdasarkan 100 pengguna paling aktif. Buku yang diberi rating ≥ 8 dianggap relevan, dan sistem menghitung seberapa banyak rekomendasi top-5 yang benar-benar sesuai dengan preferensi pengguna. Hasil evaluasi menunjukkan nilai Precision@5 sebesar 0.0598 dan Recall@5 sebesar 0.2461, yang mengindikasikan bahwa dari 5 rekomendasi, sekitar 6% akurat dan sistem mampu menangkap sekitar 25% dari buku-buku relevan yang pernah disukai pengguna."
   ]
  },
  {
   "cell_type": "markdown",
   "id": "9c0f4c93",
   "metadata": {},
   "source": [
    "# Contoh Penerapan Output"
   ]
  },
  {
   "cell_type": "code",
   "execution_count": 26,
   "id": "87976ab9",
   "metadata": {},
   "outputs": [
    {
     "name": "stdout",
     "output_type": "stream",
     "text": [
      "\n",
      "📚 Rekomendasi untuk buku: 'Sky Knife'\n",
      "1. Under the Knife\n",
      "2. Under the Knife\n",
      "3. Be My Knife: A Novel\n",
      "4. Three Uses of the Knife\n",
      "5. Night Sky\n"
     ]
    }
   ],
   "source": [
    "query = \"Sky Knife\"\n",
    "print(f\"\\n📚 Rekomendasi untuk buku: '{query}'\")\n",
    "rekomendasi = get_similar_books(query, top_n=5)\n",
    "for i, book in enumerate(rekomendasi, 1):\n",
    "    print(f\"{i}. {book}\")"
   ]
  }
 ],
 "metadata": {
  "kernelspec": {
   "display_name": "Python 3",
   "language": "python",
   "name": "python3"
  },
  "language_info": {
   "codemirror_mode": {
    "name": "ipython",
    "version": 3
   },
   "file_extension": ".py",
   "mimetype": "text/x-python",
   "name": "python",
   "nbconvert_exporter": "python",
   "pygments_lexer": "ipython3",
   "version": "3.11.9"
  }
 },
 "nbformat": 4,
 "nbformat_minor": 5
}
